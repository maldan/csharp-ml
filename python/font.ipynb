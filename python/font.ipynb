{
 "cells": [
  {
   "cell_type": "code",
   "id": "initial_id",
   "metadata": {
    "collapsed": true,
    "ExecuteTime": {
     "end_time": "2024-07-02T15:38:34.419472Z",
     "start_time": "2024-07-02T15:38:34.284473Z"
    }
   },
   "source": [
    "# BitmapFont test\n",
    "\n",
    "x = \"\"\"\n",
    "{\"0\":{\"x\":140,\"y\":37,\"width\":10,\"height\":9},\"1\":{\"x\":150,\"y\":37,\"width\":7,\"height\":9},\"2\":{\"x\":157,\"y\":37,\"width\":9,\"height\":9},\"3\":{\"x\":166,\"y\":37,\"width\":9,\"height\":9},\"4\":{\"x\":175,\"y\":37,\"width\":9,\"height\":9},\"5\":{\"x\":184,\"y\":37,\"width\":8,\"height\":9},\"6\":{\"x\":192,\"y\":37,\"width\":9,\"height\":9},\"7\":{\"x\":201,\"y\":37,\"width\":9,\"height\":9},\"8\":{\"x\":210,\"y\":37,\"width\":9,\"height\":9},\"9\":{\"x\":219,\"y\":37,\"width\":9,\"height\":9},\"a\":{\"x\":1,\"y\":1,\"width\":10,\"height\":9},\"b\":{\"x\":11,\"y\":1,\"width\":9,\"height\":9},\"c\":{\"x\":20,\"y\":1,\"width\":9,\"height\":9},\"d\":{\"x\":29,\"y\":1,\"width\":10,\"height\":9},\"e\":{\"x\":39,\"y\":1,\"width\":9,\"height\":9},\"f\":{\"x\":48,\"y\":1,\"width\":9,\"height\":9},\"g\":{\"x\":57,\"y\":1,\"width\":10,\"height\":9},\"h\":{\"x\":67,\"y\":1,\"width\":9,\"height\":9},\"i\":{\"x\":76,\"y\":1,\"width\":8,\"height\":9},\"j\":{\"x\":84,\"y\":1,\"width\":9,\"height\":9},\"k\":{\"x\":93,\"y\":1,\"width\":9,\"height\":9},\"l\":{\"x\":102,\"y\":1,\"width\":9,\"height\":9},\"m\":{\"x\":111,\"y\":1,\"width\":11,\"height\":9},\"n\":{\"x\":122,\"y\":1,\"width\":9,\"height\":9},\"o\":{\"x\":131,\"y\":1,\"width\":10,\"height\":9},\"p\":{\"x\":141,\"y\":1,\"width\":9,\"height\":9},\"q\":{\"x\":150,\"y\":1,\"width\":10,\"height\":9},\"r\":{\"x\":160,\"y\":1,\"width\":9,\"height\":9},\"s\":{\"x\":169,\"y\":1,\"width\":10,\"height\":9},\"t\":{\"x\":179,\"y\":1,\"width\":9,\"height\":9},\"u\":{\"x\":226,\"y\":1,\"width\":9,\"height\":9},\"v\":{\"x\":197,\"y\":1,\"width\":9,\"height\":9},\"w\":{\"x\":206,\"y\":1,\"width\":11,\"height\":9},\"x\":{\"x\":217,\"y\":1,\"width\":9,\"height\":9},\"y\":{\"x\":235,\"y\":1,\"width\":9,\"height\":9},\"z\":{\"x\":244,\"y\":1,\"width\":9,\"height\":9},\"A\":{\"x\":1,\"y\":10,\"width\":10,\"height\":9},\"B\":{\"x\":11,\"y\":10,\"width\":9,\"height\":9},\"C\":{\"x\":20,\"y\":10,\"width\":9,\"height\":9},\"D\":{\"x\":29,\"y\":10,\"width\":10,\"height\":9},\"E\":{\"x\":39,\"y\":10,\"width\":9,\"height\":9},\"F\":{\"x\":48,\"y\":10,\"width\":9,\"height\":9},\"G\":{\"x\":57,\"y\":10,\"width\":10,\"height\":9},\"H\":{\"x\":67,\"y\":10,\"width\":9,\"height\":9},\"I\":{\"x\":76,\"y\":10,\"width\":8,\"height\":9},\"J\":{\"x\":84,\"y\":10,\"width\":9,\"height\":9},\"K\":{\"x\":93,\"y\":10,\"width\":9,\"height\":9},\"L\":{\"x\":102,\"y\":10,\"width\":9,\"height\":9},\"M\":{\"x\":111,\"y\":10,\"width\":11,\"height\":9},\"N\":{\"x\":122,\"y\":10,\"width\":9,\"height\":9},\"O\":{\"x\":131,\"y\":10,\"width\":10,\"height\":9},\"P\":{\"x\":141,\"y\":10,\"width\":9,\"height\":9},\"Q\":{\"x\":150,\"y\":10,\"width\":10,\"height\":9},\"R\":{\"x\":160,\"y\":10,\"width\":9,\"height\":9},\"S\":{\"x\":169,\"y\":10,\"width\":10,\"height\":9},\"T\":{\"x\":179,\"y\":10,\"width\":9,\"height\":9},\"U\":{\"x\":188,\"y\":10,\"width\":9,\"height\":9},\"V\":{\"x\":197,\"y\":10,\"width\":9,\"height\":9},\"W\":{\"x\":206,\"y\":10,\"width\":11,\"height\":9},\"X\":{\"x\":217,\"y\":10,\"width\":9,\"height\":9},\"Y\":{\"x\":226,\"y\":10,\"width\":9,\"height\":9},\"Z\":{\"x\":235,\"y\":10,\"width\":9,\"height\":9},\"_\":{\"x\":244,\"y\":10,\"width\":9,\"height\":9},\"а\":{\"x\":1,\"y\":19,\"width\":9,\"height\":9},\"б\":{\"x\":10,\"y\":19,\"width\":9,\"height\":9},\"в\":{\"x\":19,\"y\":19,\"width\":9,\"height\":9},\"г\":{\"x\":28,\"y\":19,\"width\":9,\"height\":9},\"д\":{\"x\":37,\"y\":19,\"width\":10,\"height\":9},\"е\":{\"x\":47,\"y\":19,\"width\":9,\"height\":9},\"ё\":{\"x\":56,\"y\":19,\"width\":9,\"height\":9},\"ж\":{\"x\":65,\"y\":19,\"width\":12,\"height\":9},\"з\":{\"x\":77,\"y\":19,\"width\":9,\"height\":9},\"и\":{\"x\":86,\"y\":19,\"width\":9,\"height\":9},\"й\":{\"x\":95,\"y\":19,\"width\":9,\"height\":9},\"к\":{\"x\":104,\"y\":19,\"width\":9,\"height\":9},\"л\":{\"x\":113,\"y\":19,\"width\":9,\"height\":9},\"м\":{\"x\":122,\"y\":19,\"width\":11,\"height\":9},\"н\":{\"x\":133,\"y\":19,\"width\":9,\"height\":9},\"о\":{\"x\":142,\"y\":19,\"width\":10,\"height\":9},\"п\":{\"x\":152,\"y\":19,\"width\":9,\"height\":9},\"р\":{\"x\":161,\"y\":19,\"width\":9,\"height\":9},\"с\":{\"x\":170,\"y\":19,\"width\":9,\"height\":9},\"т\":{\"x\":179,\"y\":19,\"width\":9,\"height\":9},\"у\":{\"x\":188,\"y\":19,\"width\":9,\"height\":9},\"ф\":{\"x\":197,\"y\":19,\"width\":12,\"height\":9},\"х\":{\"x\":209,\"y\":19,\"width\":9,\"height\":9},\"ц\":{\"x\":218,\"y\":19,\"width\":10,\"height\":9},\"ч\":{\"x\":228,\"y\":19,\"width\":9,\"height\":9},\"ш\":{\"x\":237,\"y\":19,\"width\":10,\"height\":9},\"щ\":{\"x\":1,\"y\":28,\"width\":10,\"height\":9},\"ь\":{\"x\":11,\"y\":28,\"width\":9,\"height\":9},\"ы\":{\"x\":20,\"y\":28,\"width\":10,\"height\":9},\"ъ\":{\"x\":30,\"y\":28,\"width\":11,\"height\":9},\"э\":{\"x\":41,\"y\":28,\"width\":10,\"height\":9},\"ю\":{\"x\":51,\"y\":28,\"width\":12,\"height\":9},\"я\":{\"x\":63,\"y\":28,\"width\":9,\"height\":9},\"А\":{\"x\":72,\"y\":28,\"width\":9,\"height\":9},\"Б\":{\"x\":81,\"y\":28,\"width\":9,\"height\":9},\"В\":{\"x\":90,\"y\":28,\"width\":9,\"height\":9},\"Г\":{\"x\":99,\"y\":28,\"width\":9,\"height\":9},\"Д\":{\"x\":108,\"y\":28,\"width\":10,\"height\":9},\"Е\":{\"x\":118,\"y\":28,\"width\":9,\"height\":9},\"Ё\":{\"x\":127,\"y\":28,\"width\":9,\"height\":9},\"Ж\":{\"x\":136,\"y\":28,\"width\":12,\"height\":9},\"З\":{\"x\":148,\"y\":28,\"width\":9,\"height\":9},\"И\":{\"x\":157,\"y\":28,\"width\":9,\"height\":9},\"Й\":{\"x\":166,\"y\":28,\"width\":9,\"height\":9},\"К\":{\"x\":175,\"y\":28,\"width\":9,\"height\":9},\"Л\":{\"x\":184,\"y\":28,\"width\":9,\"height\":9},\"М\":{\"x\":193,\"y\":28,\"width\":11,\"height\":9},\"Н\":{\"x\":204,\"y\":28,\"width\":9,\"height\":9},\"О\":{\"x\":213,\"y\":28,\"width\":10,\"height\":9},\"П\":{\"x\":223,\"y\":28,\"width\":9,\"height\":9},\"Р\":{\"x\":232,\"y\":28,\"width\":9,\"height\":9},\"С\":{\"x\":241,\"y\":28,\"width\":9,\"height\":9},\"Т\":{\"x\":1,\"y\":37,\"width\":9,\"height\":9},\"У\":{\"x\":10,\"y\":37,\"width\":9,\"height\":9},\"Ф\":{\"x\":19,\"y\":37,\"width\":12,\"height\":9},\"Х\":{\"x\":31,\"y\":37,\"width\":9,\"height\":9},\"Ц\":{\"x\":40,\"y\":37,\"width\":10,\"height\":9},\"Ч\":{\"x\":50,\"y\":37,\"width\":9,\"height\":9},\"Ш\":{\"x\":59,\"y\":37,\"width\":10,\"height\":9},\"Щ\":{\"x\":69,\"y\":37,\"width\":10,\"height\":9},\"Ь\":{\"x\":79,\"y\":37,\"width\":9,\"height\":9},\"Ы\":{\"x\":88,\"y\":37,\"width\":10,\"height\":9},\"Ъ\":{\"x\":98,\"y\":37,\"width\":11,\"height\":9},\"Э\":{\"x\":109,\"y\":37,\"width\":10,\"height\":9},\"Ю\":{\"x\":119,\"y\":37,\"width\":12,\"height\":9},\"Я\":{\"x\":131,\"y\":37,\"width\":9,\"height\":9},\" \":{\"x\":228,\"y\":37,\"width\":6,\"height\":2},\"!\":{\"x\":234,\"y\":37,\"width\":7,\"height\":9},\"@\":{\"x\":241,\"y\":37,\"width\":10,\"height\":9},\"#\":{\"x\":1,\"y\":46,\"width\":9,\"height\":9},\"$\":{\"x\":10,\"y\":46,\"width\":9,\"height\":9},\"?\":{\"x\":19,\"y\":46,\"width\":9,\"height\":9},\".\":{\"x\":28,\"y\":46,\"width\":6,\"height\":9},\",\":{\"x\":34,\"y\":46,\"width\":6,\"height\":9}}\n",
    "\"\"\"\n",
    "\n",
    "import json\n",
    "from PIL import Image\n",
    "\n",
    "font_map = json.loads(x)\n",
    "\n",
    "font_image = Image.open(\"C:/Users/black/Desktop/font.png\")\n",
    "\n",
    "# Вычисляем координаты нижнего правого угла\n",
    "symbol = \"A\"\n",
    "left = font_map[symbol][\"x\"]\n",
    "upper = font_map[symbol][\"y\"]\n",
    "right = left + font_map[symbol][\"width\"]\n",
    "lower = upper + font_map[symbol][\"height\"]\n",
    "\n",
    "# Вырезаем область\n",
    "cropped_image = font_image.crop((left, upper, right, lower))\n",
    "cropped_image\n",
    "\n",
    "import struct\n",
    "\n",
    "byte_array = bytearray()\n",
    "\n",
    "# Версия\n",
    "byte_array += struct.pack('B', 1)\n",
    "\n",
    "# Количество байт на символ\n",
    "byte_array += struct.pack('B', 4)\n",
    "\n",
    "# Количество символов\n",
    "byte_array += struct.pack('<H', len(font_map))\n",
    "\n",
    "# Записываем данные символов\n",
    "for symbol in font_map:\n",
    "    byte_array += struct.pack('<I', ord(symbol))\n",
    "    byte_array += struct.pack('<H', font_map[symbol][\"x\"])\n",
    "    byte_array += struct.pack('<H', font_map[symbol][\"y\"])\n",
    "    byte_array += struct.pack('<H', font_map[symbol][\"width\"])\n",
    "    byte_array += struct.pack('<H', font_map[symbol][\"height\"])\n",
    "\n",
    "# Сохраняем картинку шрифта\n",
    "byte_array += struct.pack('<H', font_image.size[0])\n",
    "byte_array += struct.pack('<H', font_image.size[1])\n",
    "\n",
    "for y in range(0, font_image.size[1]):\n",
    "    for x in range(0, font_image.size[0]):\n",
    "        pixel = font_image.getpixel((x, y))\n",
    "\n",
    "        # Записываем альфу\n",
    "        byte_array += struct.pack('<B', pixel[3])\n",
    "\n",
    "with open('C:/Users/black/Desktop/font.bin', 'wb') as file:\n",
    "    file.write(byte_array)"
   ],
   "outputs": [],
   "execution_count": 3
  }
 ],
 "metadata": {
  "kernelspec": {
   "display_name": "Python 3",
   "language": "python",
   "name": "python3"
  },
  "language_info": {
   "codemirror_mode": {
    "name": "ipython",
    "version": 2
   },
   "file_extension": ".py",
   "mimetype": "text/x-python",
   "name": "python",
   "nbconvert_exporter": "python",
   "pygments_lexer": "ipython2",
   "version": "2.7.6"
  }
 },
 "nbformat": 4,
 "nbformat_minor": 5
}
