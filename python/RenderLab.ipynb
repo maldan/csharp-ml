{
 "cells": [
  {
   "cell_type": "code",
   "id": "initial_id",
   "metadata": {
    "collapsed": true,
    "ExecuteTime": {
     "end_time": "2024-09-11T03:44:31.059950Z",
     "start_time": "2024-09-11T03:44:31.040950Z"
    }
   },
   "source": [
    "import numpy as np\n",
    "import matplotlib.pyplot as plt\n",
    "\n",
    "# Функции для создания матриц\n",
    "def create_projection_matrix(fov, aspect_ratio, near, far):\n",
    "    f = 1.0 / np.tan(np.radians(fov) / 2)\n",
    "    depth = near - far\n",
    "    return np.array([\n",
    "        [f / aspect_ratio, 0, 0, 0],\n",
    "        [0, f, 0, 0],\n",
    "        [0, 0, (far + near) / depth, (2 * far * near) / depth],\n",
    "        [0, 0, -1, 0]\n",
    "    ], dtype=float)\n",
    "\n",
    "def create_view_matrix(camera_pos, target, up):\n",
    "    forward = (camera_pos - target)\n",
    "    forward /= np.linalg.norm(forward)\n",
    "    right = np.cross(up, forward)\n",
    "    right /= np.linalg.norm(right)\n",
    "    up = np.cross(forward, right)\n",
    "\n",
    "    view = np.identity(4, dtype=float)\n",
    "    view[:3, :3] = np.stack([right, up, forward], axis=1)\n",
    "    view[:3, 3] = -camera_pos\n",
    "    return view\n",
    "\n",
    "def create_model_matrix(translation, rotation, scale):\n",
    "    # Матрица трансляции\n",
    "    model = np.identity(4, dtype=float)\n",
    "    model[:3, 3] = translation\n",
    "\n",
    "    # Матрицы вращения вокруг осей X, Y и Z\n",
    "    cx, cy, cz = np.cos(rotation)\n",
    "    sx, sy, sz = np.sin(rotation)\n",
    "\n",
    "    rotation_x = np.array([\n",
    "        [1, 0, 0],\n",
    "        [0, cx, -sx],\n",
    "        [0, sx, cx]\n",
    "    ], dtype=float)\n",
    "\n",
    "    rotation_y = np.array([\n",
    "        [cy, 0, sy],\n",
    "        [0, 1, 0],\n",
    "        [-sy, 0, cy]\n",
    "    ], dtype=float)\n",
    "\n",
    "    rotation_z = np.array([\n",
    "        [cz, -sz, 0],\n",
    "        [sz, cz, 0],\n",
    "        [0, 0, 1]\n",
    "    ], dtype=float)\n",
    "\n",
    "    # Общая матрица вращения (умножение матриц вращения по всем осям)\n",
    "    rotation_matrix = rotation_z @ rotation_y @ rotation_x\n",
    "\n",
    "    # Матрица масштабирования\n",
    "    scale_matrix = np.diag([scale[0], scale[1], scale[2], 1.0])\n",
    "\n",
    "    # Вставляем матрицу вращения и масштабирования в итоговую матрицу модели\n",
    "    model[:3, :3] = rotation_matrix @ scale_matrix[:3, :3]\n",
    "\n",
    "    return model\n",
    "\n",
    "# Определение вершин куба\n",
    "cube_vertices = np.array([\n",
    "    [-1, -1, -1, 1],\n",
    "    [1, -1, -1, 1],\n",
    "    [1, 1, -1, 1],\n",
    "    [-1, 1, -1, 1],\n",
    "    \n",
    "    [-1, -1, 1, 1],\n",
    "    [1, -1, 1, 1],\n",
    "    [1, 1, 1, 1],\n",
    "    [-1, 1, 1, 1]\n",
    "], dtype=float)\n",
    "\n",
    "# Определение линий куба (индексы вершин)\n",
    "cube_edges = [(0, 1), (1, 2), (2, 3), (3, 0),\n",
    "              (4, 5), (5, 6), (6, 7), (7, 4),\n",
    "              (0, 4), (1, 5), (2, 6), (3, 7)]\n",
    "\n",
    "# Параметры камеры и проекции\n",
    "camera_pos = np.array([0, 0, -4], dtype=float)\n",
    "target = np.array([0, 0, 0], dtype=float)\n",
    "up = np.array([0, 1, 0], dtype=float)\n",
    "\n",
    "fov = 90\n",
    "aspect_ratio = 1\n",
    "near = 0.1\n",
    "far = 100\n",
    "\n",
    "# Создание матриц\n",
    "projection_matrix = create_projection_matrix(fov, aspect_ratio, near, far)\n",
    "view_matrix = create_view_matrix(camera_pos, target, up)\n",
    "model_matrix = create_model_matrix([0, 0, 0], [0, 0, 0], [1, 1, 1])\n",
    "\n",
    "# Композиция матриц\n",
    "transform_matrix = projection_matrix @ view_matrix @ model_matrix\n",
    "\n",
    "# Преобразование вершин\n",
    "transformed_vertices = (transform_matrix @ cube_vertices.T).T\n",
    "\n",
    "# Проецирование в 2D\n",
    "projected_vertices = transformed_vertices[:, :2] / transformed_vertices[:, 3][:, np.newaxis]"
   ],
   "outputs": [],
   "execution_count": 19
  },
  {
   "metadata": {
    "ExecuteTime": {
     "end_time": "2024-09-11T03:46:09.236494Z",
     "start_time": "2024-09-11T03:46:09.058150Z"
    }
   },
   "cell_type": "code",
   "source": [
    "# Визуализация\n",
    "fig, ax = plt.subplots()\n",
    "for edge in cube_edges:\n",
    "    points = projected_vertices[list(edge)]\n",
    "    ax.plot(points[:, 0], points[:, 1], 'b')\n",
    "\n",
    "ax.set_aspect('equal')\n",
    "ax.set_xlim(-1, 1)\n",
    "ax.set_ylim(-1, 1)\n",
    "plt.gca().invert_yaxis()\n",
    "plt.show()"
   ],
   "id": "603d1f0a61ef6c45",
   "outputs": [
    {
     "data": {
      "text/plain": [
       "<Figure size 640x480 with 1 Axes>"
      ],
      "image/png": "[encoded data removed]"
     },
     "metadata": {},
     "output_type": "display_data"
    }
   ],
   "execution_count": 23
  }
 ],
 "metadata": {
  "kernelspec": {
   "display_name": "Python 3",
   "language": "python",
   "name": "python3"
  },
  "language_info": {
   "codemirror_mode": {
    "name": "ipython",
    "version": 2
   },
   "file_extension": ".py",
   "mimetype": "text/x-python",
   "name": "python",
   "nbconvert_exporter": "python",
   "pygments_lexer": "ipython2",
   "version": "2.7.6"
  }
 },
 "nbformat": 4,
 "nbformat_minor": 5
}
