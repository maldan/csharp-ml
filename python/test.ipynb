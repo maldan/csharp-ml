{
 "cells": [
  {
   "cell_type": "code",
   "id": "initial_id",
   "metadata": {
    "collapsed": true,
    "ExecuteTime": {
     "end_time": "2024-09-10T15:42:07.551589Z",
     "start_time": "2024-09-10T15:42:07.537589Z"
    }
   },
   "source": [
    "def getLightTexelById(id, ch):\n",
    "    pixel = 1 + int(id) * 8 + ch\n",
    "    return (pixel % 64, int(pixel / 64))\n",
    "\n",
    "print(getLightTexelById(0, 0))\n",
    "print(getLightTexelById(0, 1))\n",
    "print(getLightTexelById(0, 3))\n",
    "print(getLightTexelById(0, 4))\n",
    "print(getLightTexelById(0, 5))\n",
    "print(getLightTexelById(0, 6))\n",
    "print(getLightTexelById(0, 7))\n",
    "print(getLightTexelById(1, 0))"
   ],
   "outputs": [
    {
     "name": "stdout",
     "output_type": "stream",
     "text": [
      "(1, 0)\n",
      "(2, 0)\n",
      "(4, 0)\n",
      "(5, 0)\n",
      "(6, 0)\n",
      "(7, 0)\n",
      "(8, 0)\n",
      "(9, 0)\n"
     ]
    }
   ],
   "execution_count": 9
  }
 ],
 "metadata": {
  "kernelspec": {
   "display_name": "Python 3",
   "language": "python",
   "name": "python3"
  },
  "language_info": {
   "codemirror_mode": {
    "name": "ipython",
    "version": 2
   },
   "file_extension": ".py",
   "mimetype": "text/x-python",
   "name": "python",
   "nbconvert_exporter": "python",
   "pygments_lexer": "ipython2",
   "version": "2.7.6"
  }
 },
 "nbformat": 4,
 "nbformat_minor": 5
}
